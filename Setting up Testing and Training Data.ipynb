{
 "cells": [
  {
   "cell_type": "code",
   "execution_count": null,
   "metadata": {},
   "outputs": [],
   "source": [
    "# Separating training from testing data\n",
    "import csv\n",
    "import glob\n",
    "\n",
    "with open('data/train/ground_truth.csv', mode='w') as csv_file:\n",
    "    csv_writer = csv.writer(csv_file, delimiter=',', quotechar='\"', quoting=csv.QUOTE_MINIMAL)\n",
    "    csv_writer.writerow(['Id', 'Class'])\n",
    "    melanoma_imgs = glob.glob(\"data/train/melanoma/*.jpg\")\n",
    "    nevus_imgs = glob.glob(\"data/train/nevus/*.jpg\")\n",
    "    keratosis_imgs = glob.glob(\"data/train/seborrheic_keratosis/*.jpg\")\n",
    "    # 0 will be the class for melanoma\n",
    "    for img in melanoma_imgs:\n",
    "        csv_writer.writerow([img, 0])\n",
    "    # 2 will be nevus\n",
    "    for img in nevus_imgs:\n",
    "        csv_writer.writerow([img, 1])\n",
    "    # 3 will be keratosis\n",
    "    for img in keratosis_imgs:\n",
    "        csv_writer.writerow([img, 2])\n",
    "        \n",
    "\n",
    "with open('data/test/ground_truth.csv', mode='w') as csv_file:\n",
    "    csv_writer = csv.writer(csv_file, delimiter=',', quotechar='\"', quoting=csv.QUOTE_MINIMAL)\n",
    "    csv_writer.writerow(['Id', 'Class'])\n",
    "    melanoma_imgs = glob.glob(\"data/test/melanoma/*.jpg\")\n",
    "    nevus_imgs = glob.glob(\"data/test/nevus/*.jpg\")\n",
    "    keratosis_imgs = glob.glob(\"data/test/seborrheic_keratosis/*.jpg\")\n",
    "    # 0 will be the class for melanoma\n",
    "    for img in melanoma_imgs:\n",
    "        csv_writer.writerow([img, 0])\n",
    "    # 2 will be nevus\n",
    "    for img in nevus_imgs:\n",
    "        csv_writer.writerow([img, 1])\n",
    "    # 3 will be keratosis\n",
    "    for img in keratosis_imgs:\n",
    "        csv_writer.writerow([img, 2])\n",
    "    "
   ]
  }
 ],
 "metadata": {
  "kernelspec": {
   "display_name": "Python 3",
   "language": "python",
   "name": "python3"
  },
  "language_info": {
   "codemirror_mode": {
    "name": "ipython",
    "version": 3
   },
   "file_extension": ".py",
   "mimetype": "text/x-python",
   "name": "python",
   "nbconvert_exporter": "python",
   "pygments_lexer": "ipython3",
   "version": "3.8.3"
  }
 },
 "nbformat": 4,
 "nbformat_minor": 4
}
